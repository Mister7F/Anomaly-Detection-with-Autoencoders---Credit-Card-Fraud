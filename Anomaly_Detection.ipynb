{
  "nbformat": 4,
  "nbformat_minor": 0,
  "metadata": {
    "colab": {
      "name": "Anomaly-Detection",
      "version": "0.3.2",
      "provenance": [],
      "collapsed_sections": [],
      "toc_visible": true
    },
    "kernelspec": {
      "name": "python3",
      "display_name": "Python 3"
    },
    "accelerator": "GPU"
  },
  "cells": [
    {
      "metadata": {
        "id": "rEkow468HYkd",
        "colab_type": "text"
      },
      "cell_type": "markdown",
      "source": [
        "# Dataset\n",
        "Transactions de cartes de crédits\n",
        "\n",
        "https://www.kaggle.com/pavansanagapati/anomaly-detection-credit-card-fraud-analysis\n",
        "\n"
      ]
    },
    {
      "metadata": {
        "id": "mzfEVU_mf60x",
        "colab_type": "code",
        "outputId": "999dc603-2924-47fb-f5d4-3b68af82b367",
        "colab": {
          "base_uri": "https://localhost:8080/",
          "height": 238
        }
      },
      "cell_type": "code",
      "source": [
        "! wget http://debauche.xyz/Github/creditcard.csv.zip\n",
        "! unzip creditcard.csv.zip\n",
        "! rm creditcard.csv.zip"
      ],
      "execution_count": 0,
      "outputs": [
        {
          "output_type": "stream",
          "text": [
            "--2018-11-18 13:34:15--  http://debauche.xyz/Github/creditcard.csv.zip\n",
            "Resolving debauche.xyz (debauche.xyz)... 46.17.175.28\n",
            "Connecting to debauche.xyz (debauche.xyz)|46.17.175.28|:80... connected.\n",
            "HTTP request sent, awaiting response... 200 OK\n",
            "Length: 69155632 (66M) [application/zip]\n",
            "Saving to: ‘creditcard.csv.zip’\n",
            "\n",
            "creditcard.csv.zip  100%[===================>]  65.95M  9.79MB/s    in 8.1s    \n",
            "\n",
            "2018-11-18 13:34:24 (8.19 MB/s) - ‘creditcard.csv.zip’ saved [69155632/69155632]\n",
            "\n",
            "Archive:  creditcard.csv.zip\n",
            "  inflating: creditcard.csv          \n"
          ],
          "name": "stdout"
        }
      ]
    },
    {
      "metadata": {
        "id": "JZMXb2tRHx9t",
        "colab_type": "code",
        "outputId": "507a9cf3-0ee6-420c-a191-729197488952",
        "colab": {
          "base_uri": "https://localhost:8080/",
          "height": 425
        }
      },
      "cell_type": "code",
      "source": [
        "import pandas as pd\n",
        "import numpy as np\n",
        "\n",
        "data = pd.read_csv('./creditcard.csv')\n",
        "# Shuffle row\n",
        "data = data.reindex(np.random.permutation(data.index))\n",
        "\n",
        "print(data.head())\n",
        "\n",
        "data = data.as_matrix()[:, 1:]\n",
        "\n",
        "rows, _ = data.shape\n",
        "\n",
        "split = int(0.8 * rows)\n",
        "\n",
        "train_data = data[:split, :]\n",
        "\n",
        "test_data = data[split:, :]\n",
        "\n",
        "print(train_data.shape)\n",
        "print(test_data.shape)"
      ],
      "execution_count": 0,
      "outputs": [
        {
          "output_type": "stream",
          "text": [
            "            Time        V1        V2        V3        V4        V5        V6  \\\n",
            "242842  151679.0 -1.350227  0.092878  1.340837  0.407938 -0.707785 -0.295252   \n",
            "110205   71723.0 -0.919461 -0.197297  2.409016 -0.504443 -0.005879  1.585147   \n",
            "277573  167722.0  2.026725  0.412645 -2.516285  0.603314  0.596640 -1.343659   \n",
            "253258  156165.0 -2.014510  0.882556  0.180390 -1.223229  1.505471 -0.955376   \n",
            "129798   79216.0 -0.471761  0.327037  1.680430 -1.631820 -1.009025  0.177521   \n",
            "\n",
            "              V7        V8        V9  ...         V21       V22       V23  \\\n",
            "242842 -0.224706  0.575816 -1.330639  ...   -0.242593 -0.515863 -0.090548   \n",
            "110205 -0.078686  0.492575  0.895720  ...   -0.053474  0.323766  0.206236   \n",
            "277573  0.156316 -0.151752  0.516404  ...    0.109467  0.405650 -0.079986   \n",
            "253258  0.419505 -0.492242 -0.685570  ...    0.435715 -1.415058 -0.473890   \n",
            "129798 -1.421718 -2.382304  1.296625  ...   -1.303011  0.374509 -0.202424   \n",
            "\n",
            "             V24       V25       V26       V27       V28  Amount  Class  \n",
            "242842 -0.121651  0.523001 -0.346180  0.221142  0.005837   83.00      0  \n",
            "110205 -0.595049 -0.789592  0.971320 -0.148035 -0.122281   46.90      0  \n",
            "277573 -0.594925  0.215551 -0.094830  0.005260 -0.009067    1.00      0  \n",
            "253258  0.542960  0.689991  0.119523 -0.001989 -0.217893    1.98      0  \n",
            "129798  0.048182  1.365666 -0.644955  0.073132  0.174336    1.00      0  \n",
            "\n",
            "[5 rows x 31 columns]\n",
            "(227845, 30)\n",
            "(56962, 30)\n"
          ],
          "name": "stdout"
        }
      ]
    },
    {
      "metadata": {
        "id": "clOw2HQLJqCc",
        "colab_type": "text"
      },
      "cell_type": "markdown",
      "source": [
        "# Autoencoders\n",
        "\n",
        "Unsupervised algorithm\n",
        "\n",
        "We want to predict the input... \n",
        "\n",
        "Input: V1 -> V28 & Amount"
      ]
    },
    {
      "metadata": {
        "id": "ySq6ONlNImxE",
        "colab_type": "code",
        "outputId": "3b06557d-d136-4b87-bb1d-1d1f60dd5891",
        "colab": {
          "base_uri": "https://localhost:8080/",
          "height": 238
        }
      },
      "cell_type": "code",
      "source": [
        "import keras\n",
        "from keras import Model\n",
        "from keras.models import Sequential\n",
        "from keras.layers import *\n",
        "\n",
        "def create_model():\n",
        "    model = Sequential()\n",
        "    \n",
        "    model.add(Dense(50, activation='relu', input_dim=29))\n",
        "            \n",
        "    model.add(Dense(15))\n",
        "    \n",
        "    model.add(Dense(29))\n",
        "    \n",
        "    return model\n",
        "\n",
        "\n",
        "model = create_model()\n",
        "model.compile('adam', 'mse')\n",
        "\n",
        "model.summary()"
      ],
      "execution_count": 0,
      "outputs": [
        {
          "output_type": "stream",
          "text": [
            "_________________________________________________________________\n",
            "Layer (type)                 Output Shape              Param #   \n",
            "=================================================================\n",
            "dense_79 (Dense)             (None, 50)                1500      \n",
            "_________________________________________________________________\n",
            "dense_80 (Dense)             (None, 15)                765       \n",
            "_________________________________________________________________\n",
            "dense_81 (Dense)             (None, 29)                464       \n",
            "=================================================================\n",
            "Total params: 2,729\n",
            "Trainable params: 2,729\n",
            "Non-trainable params: 0\n",
            "_________________________________________________________________\n"
          ],
          "name": "stdout"
        }
      ]
    },
    {
      "metadata": {
        "id": "U3CWkokCK5Fx",
        "colab_type": "code",
        "outputId": "97105e91-258d-42d7-e898-2cbce1ce43bc",
        "colab": {
          "base_uri": "https://localhost:8080/",
          "height": 102
        }
      },
      "cell_type": "code",
      "source": [
        "model.fit(x=train_data[:, :-1], y=train_data[:, :-1], epochs=2, validation_split=0)"
      ],
      "execution_count": 0,
      "outputs": [
        {
          "output_type": "stream",
          "text": [
            "Epoch 1/2\n",
            "227845/227845 [==============================] - 40s 174us/step - loss: 57.5383\n",
            "Epoch 2/2\n",
            "227845/227845 [==============================] - 38s 167us/step - loss: 4.6798\n"
          ],
          "name": "stdout"
        },
        {
          "output_type": "execute_result",
          "data": {
            "text/plain": [
              "<keras.callbacks.History at 0x7fc31ba0fa90>"
            ]
          },
          "metadata": {
            "tags": []
          },
          "execution_count": 41
        }
      ]
    },
    {
      "metadata": {
        "id": "4TgF62SyNp_l",
        "colab_type": "code",
        "outputId": "292582a2-af09-4cc8-eaae-e267f122766c",
        "colab": {
          "base_uri": "https://localhost:8080/",
          "height": 153
        }
      },
      "cell_type": "code",
      "source": [
        "predicted_vector = model.predict(test_data[:, :-1])\n",
        "\n",
        "print('Mean')\n",
        "print('====')\n",
        "print('Prediction,     ', predicted_vector.mean())\n",
        "print('Initial data,   ', test_data[:, :-1].mean())\n",
        "\n",
        "predicted_vector = np.concatenate((predicted_vector, np.zeros(predicted_vector.shape[0]).reshape(-1, 1)), axis=1)\n",
        "\n",
        "error = np.square(test_data - predicted_vector)\n",
        "\n",
        "anormal_error = error[error[:, -1] == 1][:, :-1]\n",
        "regular_error = error[error[:, -1] == 0][:, :-1]\n",
        "\n",
        "print('Mean error')\n",
        "print('==========')\n",
        "print('On anomaly,     ', anormal_error.mean())\n",
        "print('On normal data, ', regular_error.mean())"
      ],
      "execution_count": 0,
      "outputs": [
        {
          "output_type": "stream",
          "text": [
            "Mean\n",
            "====\n",
            "Prediction,      3.1193116\n",
            "Initial data,    3.095192032112978\n",
            "Mean error\n",
            "==========\n",
            "On anomaly,      7.884394841430703\n",
            "On normal data,  0.48915868304962173\n"
          ],
          "name": "stdout"
        }
      ]
    },
    {
      "metadata": {
        "id": "pOGzYo7iUex4",
        "colab_type": "text"
      },
      "cell_type": "markdown",
      "source": [
        "# False positive & False negative\n",
        "\n",
        "We can adapte threshold, if we want less \"false positive\" or less \"false negative\""
      ]
    },
    {
      "metadata": {
        "id": "Gz72aGGBT-PS",
        "colab_type": "code",
        "outputId": "ba1add64-891a-47c2-ec35-3df2cd352edb",
        "colab": {
          "base_uri": "https://localhost:8080/",
          "height": 136
        }
      },
      "cell_type": "code",
      "source": [
        "threshold = 0.7\n",
        "\n",
        "anormal_error_mean = anormal_error.mean(axis=1)\n",
        "\n",
        "anormal_detected = anormal_error_mean[anormal_error_mean >= threshold].size\n",
        "anormal_undetected = anormal_error_mean[anormal_error_mean < threshold].size\n",
        "\n",
        "print('Anormal detected, ', anormal_detected)\n",
        "print('Anormal undetected', anormal_undetected)\n",
        "print('Accuraccy, ', anormal_detected / (anormal_detected + anormal_undetected))\n",
        "\n",
        "print()\n",
        "\n",
        "regular_error_mean = regular_error.mean(axis=1)\n",
        "\n",
        "regular_detected = regular_error_mean[regular_error_mean >= threshold].size\n",
        "regular_undetected = regular_error_mean[regular_error_mean < threshold].size\n",
        "\n",
        "print('Regular detected, ', regular_detected)\n",
        "print('Regular undetected', regular_undetected)\n",
        "print('Accuraccy, ', regular_undetected / (regular_detected + regular_undetected))"
      ],
      "execution_count": 0,
      "outputs": [
        {
          "output_type": "stream",
          "text": [
            "Anormal detected,  84\n",
            "Anormal undetected 12\n",
            "Accuraccy,  0.875\n",
            "\n",
            "Regular detected,  5975\n",
            "Regular undetected 50891\n",
            "Accuraccy,  0.8949284282347976\n"
          ],
          "name": "stdout"
        }
      ]
    },
    {
      "metadata": {
        "id": "lSO86bUoBxxi",
        "colab_type": "text"
      },
      "cell_type": "markdown",
      "source": [
        "# Forest"
      ]
    },
    {
      "metadata": {
        "id": "GVkjK8k0UGcV",
        "colab_type": "code",
        "colab": {}
      },
      "cell_type": "code",
      "source": [
        "n_models = 5\n",
        "\n",
        "def create_model():\n",
        "    model = Sequential()\n",
        "    \n",
        "    model.add(Dense(50, activation='relu', input_dim=29))\n",
        "                \n",
        "    model.add(Dense(15))\n",
        "        \n",
        "    model.add(Dense(29))\n",
        "    \n",
        "    return model\n",
        "\n",
        "models = []\n",
        "\n",
        "for _ in range(n_models):\n",
        "    model = create_model()\n",
        "    model.compile('adam', 'mse')\n",
        "    \n",
        "    models.append(model)"
      ],
      "execution_count": 0,
      "outputs": []
    },
    {
      "metadata": {
        "id": "to2nd-LuC3eI",
        "colab_type": "code",
        "outputId": "6fcb2bc0-f5a5-406f-fa43-412bee826619",
        "colab": {
          "base_uri": "https://localhost:8080/",
          "height": 357
        }
      },
      "cell_type": "code",
      "source": [
        "for model in models:\n",
        "    model.fit(x=train_data[:, :-1], y=train_data[:, :-1], epochs=2, validation_split=0)"
      ],
      "execution_count": 0,
      "outputs": [
        {
          "output_type": "stream",
          "text": [
            "Epoch 1/2\n",
            "227845/227845 [==============================] - 39s 170us/step - loss: 45.7136\n",
            "Epoch 2/2\n",
            "227845/227845 [==============================] - 38s 166us/step - loss: 4.7839\n",
            "Epoch 1/2\n",
            "227845/227845 [==============================] - 39s 170us/step - loss: 33.4560\n",
            "Epoch 2/2\n",
            "227845/227845 [==============================] - 38s 165us/step - loss: 2.1055\n",
            "Epoch 1/2\n",
            "227845/227845 [==============================] - 39s 169us/step - loss: 30.6842\n",
            "Epoch 2/2\n",
            "227845/227845 [==============================] - 37s 164us/step - loss: 2.4528\n",
            "Epoch 1/2\n",
            "227845/227845 [==============================] - 39s 170us/step - loss: 52.1326\n",
            "Epoch 2/2\n",
            "227845/227845 [==============================] - 38s 165us/step - loss: 1.6636\n",
            "Epoch 1/2\n",
            "227845/227845 [==============================] - 39s 171us/step - loss: 33.6578\n",
            "Epoch 2/2\n",
            "227845/227845 [==============================] - 38s 165us/step - loss: 2.0381\n"
          ],
          "name": "stdout"
        }
      ]
    },
    {
      "metadata": {
        "id": "kq48K6ozC6_o",
        "colab_type": "code",
        "outputId": "6c8af6b6-c87b-4a3f-e585-e2b39619ff80",
        "colab": {
          "base_uri": "https://localhost:8080/",
          "height": 289
        }
      },
      "cell_type": "code",
      "source": [
        "threshold = 0.75\n",
        "\n",
        "predictions = np.array([test_data[:, -1]]).T\n",
        "\n",
        "print(predictions.shape)\n",
        "\n",
        "for model in models:\n",
        "    predicted_vector = model.predict(test_data[:, :-1])\n",
        "    \n",
        "    # mse\n",
        "    error = np.square(test_data[:, :-1] - predicted_vector).mean(axis=1)\n",
        "    \n",
        "    predictions = np.concatenate((predictions, error.reshape(-1, 1)), axis=1)\n",
        "\n",
        "    \n",
        "    \n",
        "print(predictions.shape)\n",
        "\n",
        "anormal_errors = predictions[predictions[:, 0] == 1][:, 1:]\n",
        "regular_errors = predictions[predictions[:, 0] == 0][:, 1:]\n",
        "\n",
        "anormal_errors = (anormal_errors > threshold).astype(float).mean(axis=1)\n",
        "regular_errors = (regular_errors > threshold).astype(float).mean(axis=1)\n",
        "\n",
        "\n",
        "print('Mean error')\n",
        "print('==========')\n",
        "print('On anomaly,     ', anormal_errors.mean())\n",
        "print('On normal data, ', regular_errors.mean())\n",
        "\n",
        "anormal_detected = anormal_errors[anormal_errors >= 0.5].size\n",
        "anormal_undetected = anormal_errors[anormal_errors < 0.5].size\n",
        "\n",
        "print('On anomaly')\n",
        "print('==========')\n",
        "print('Anormal detected, ', anormal_detected)\n",
        "print('Anormal undetected', anormal_undetected)\n",
        "print('Accuraccy, ', anormal_detected / (anormal_detected + anormal_undetected))\n",
        "\n",
        "regular_detected = regular_errors[regular_errors >= 0.5].size\n",
        "regular_undetected = regular_errors[regular_errors < 0.5].size\n",
        "\n",
        "print('On regular')\n",
        "print('==========')\n",
        "print('Regular detected, ', regular_detected)\n",
        "print('Regular undetected', regular_undetected)\n",
        "print('Accuraccy, ', regular_undetected / (regular_detected + regular_undetected))"
      ],
      "execution_count": 0,
      "outputs": [
        {
          "output_type": "stream",
          "text": [
            "(56962, 1)\n",
            "(56962, 6)\n",
            "Mean error\n",
            "==========\n",
            "On anomaly,      0.8874999999999998\n",
            "On normal data,  0.09872683149861078\n",
            "On anomaly\n",
            "==========\n",
            "Anormal detected,  88\n",
            "Anormal undetected 8\n",
            "Accuraccy,  0.9166666666666666\n",
            "On regular\n",
            "==========\n",
            "Regular detected,  4803\n",
            "Regular undetected 52063\n",
            "Accuraccy,  0.9155382829810431\n"
          ],
          "name": "stdout"
        }
      ]
    },
    {
      "metadata": {
        "id": "BZl08BzcFD_w",
        "colab_type": "code",
        "colab": {}
      },
      "cell_type": "code",
      "source": [
        ""
      ],
      "execution_count": 0,
      "outputs": []
    }
  ]
}